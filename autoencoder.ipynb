{
  "nbformat": 4,
  "nbformat_minor": 0,
  "metadata": {
    "colab": {
      "provenance": []
    },
    "kernelspec": {
      "name": "python3",
      "display_name": "Python 3"
    },
    "language_info": {
      "name": "python"
    },
    "accelerator": "TPU"
  },
  "cells": [
    {
      "cell_type": "code",
      "source": [
        "from typing import List, Dict, Mapping, Tuple\n",
        "\n",
        "import chex\n",
        "import jax\n",
        "import jax.numpy as jnp\n",
        "import jax.random as jrand\n",
        "import flax.linen as nn\n",
        "from flax.training import train_state  # Useful dataclass to keep train state\n",
        "import optax\n",
        "import tensorflow as tf\n",
        "import pdb\n",
        "import functools\n",
        "\n",
        "def println(*args):\n",
        "  for arg in args:\n",
        "    print(arg)\n"
      ],
      "metadata": {
        "id": "72Nj51EWBerM"
      },
      "execution_count": 1,
      "outputs": []
    },
    {
      "cell_type": "code",
      "source": [
        "import jax.tools.colab_tpu\n",
        "jax.tools.colab_tpu.setup_tpu()\n",
        "jax.devices()"
      ],
      "metadata": {
        "id": "jBNxJaDJLWKG",
        "colab": {
          "base_uri": "https://localhost:8080/"
        },
        "outputId": "2a1c6114-5a19-4174-ca5e-6d39a1927360"
      },
      "execution_count": 2,
      "outputs": [
        {
          "output_type": "execute_result",
          "data": {
            "text/plain": [
              "[TpuDevice(id=0, process_index=0, coords=(0,0,0), core_on_chip=0),\n",
              " TpuDevice(id=1, process_index=0, coords=(0,0,0), core_on_chip=1),\n",
              " TpuDevice(id=2, process_index=0, coords=(1,0,0), core_on_chip=0),\n",
              " TpuDevice(id=3, process_index=0, coords=(1,0,0), core_on_chip=1),\n",
              " TpuDevice(id=4, process_index=0, coords=(0,1,0), core_on_chip=0),\n",
              " TpuDevice(id=5, process_index=0, coords=(0,1,0), core_on_chip=1),\n",
              " TpuDevice(id=6, process_index=0, coords=(1,1,0), core_on_chip=0),\n",
              " TpuDevice(id=7, process_index=0, coords=(1,1,0), core_on_chip=1)]"
            ]
          },
          "metadata": {},
          "execution_count": 2
        }
      ]
    },
    {
      "cell_type": "code",
      "source": [
        "DEVICE_COUNT = len(jax.devices())\n",
        "DEVICE_COUNT"
      ],
      "metadata": {
        "id": "sqescrf0Sslj",
        "outputId": "e0efa4c5-cfbe-4687-d994-5cc4a1c15ebf",
        "colab": {
          "base_uri": "https://localhost:8080/"
        }
      },
      "execution_count": 3,
      "outputs": [
        {
          "output_type": "execute_result",
          "data": {
            "text/plain": [
              "8"
            ]
          },
          "metadata": {},
          "execution_count": 3
        }
      ]
    },
    {
      "cell_type": "code",
      "source": [
        "BATCH_SIZE = 1024"
      ],
      "metadata": {
        "id": "WaGPnFqLUxFa"
      },
      "execution_count": 91,
      "outputs": []
    },
    {
      "cell_type": "markdown",
      "source": [
        "## Dataset pipline"
      ],
      "metadata": {
        "id": "ukGZuNfiXSkF"
      }
    },
    {
      "cell_type": "code",
      "source": [
        "import tensorflow as tf\n",
        "\n",
        "# Load the CIFAR-10 dataset\n",
        "(x_train, y_train), (x_test, y_test) = tf.keras.datasets.mnist.load_data()\n",
        "\n",
        "# Normalize the pixel values\n",
        "x_train, x_test = x_train / 255.0, x_test / 255.0\n",
        "\n",
        "# Convert the labels to one-hot encoding\n",
        "y_train = tf.keras.utils.to_categorical(y_train, 10)\n",
        "y_test = tf.keras.utils.to_categorical(y_test, 10)\n",
        "\n",
        "# Create a TensorFlow data pipeline for the training set\n",
        "train_dataset = (\n",
        "    tf.data.Dataset\n",
        "    .from_tensor_slices((x_train, y_train))\n",
        "    .repeat()\n",
        "    .shuffle(buffer_size=5000)\n",
        "    .batch(BATCH_SIZE)\n",
        "    .prefetch(tf.data.AUTOTUNE)\n",
        "    .as_numpy_iterator())\n",
        "\n",
        "# Create a TensorFlow data pipeline for the test set.\n",
        "test_dataset = (\n",
        "    tf.data.Dataset\n",
        "    .from_tensor_slices((x_test, y_test))\n",
        "    .batch(BATCH_SIZE)\n",
        "    .prefetch(tf.data.AUTOTUNE)\n",
        "    .as_numpy_iterator())\n",
        "\n",
        "def get_batch(training: bool = True):\n",
        "  images, labels = (\n",
        "      next(train_dataset) if training\n",
        "      else next(test_dataset))\n",
        "\n",
        "  images, labels = jnp.array(images), jnp.array(labels)\n",
        "  images = jnp.reshape(images, (BATCH_SIZE, -1)) # flatten the images\n",
        "  return images, labels"
      ],
      "metadata": {
        "id": "6SZi0CVi9hbf"
      },
      "execution_count": 92,
      "outputs": []
    },
    {
      "cell_type": "markdown",
      "source": [
        "### test get_batch"
      ],
      "metadata": {
        "id": "COmCti08XaWe"
      }
    },
    {
      "cell_type": "code",
      "source": [
        "test_images, test_labels = get_batch()\n",
        "test_images.shape, test_labels.shape"
      ],
      "metadata": {
        "id": "7cgyLqLk_bKc",
        "outputId": "5605ca8e-bc4b-48ab-c98b-7b6bc914ec7a",
        "colab": {
          "base_uri": "https://localhost:8080/"
        }
      },
      "execution_count": 93,
      "outputs": [
        {
          "output_type": "execute_result",
          "data": {
            "text/plain": [
              "((1024, 784), (1024, 10))"
            ]
          },
          "metadata": {},
          "execution_count": 93
        }
      ]
    },
    {
      "cell_type": "code",
      "source": [
        "test_image, test_label = test_images[0], test_labels[0]\n",
        "test_image.shape"
      ],
      "metadata": {
        "colab": {
          "base_uri": "https://localhost:8080/"
        },
        "id": "HBoE30Yd1x7E",
        "outputId": "5b0c5b32-bbf5-4a62-cc5a-45c5c613fdd3"
      },
      "execution_count": 94,
      "outputs": [
        {
          "output_type": "execute_result",
          "data": {
            "text/plain": [
              "(784,)"
            ]
          },
          "metadata": {},
          "execution_count": 94
        }
      ]
    },
    {
      "cell_type": "markdown",
      "source": [
        "## Modeling"
      ],
      "metadata": {
        "id": "rUpckDyi4aKP"
      }
    },
    {
      "cell_type": "code",
      "source": [
        "class Autoencoder(nn.Module):\n",
        "    def setup(self):\n",
        "      self._encoder = nn.Sequential([\n",
        "        nn.Dense(512),\n",
        "        nn.relu,\n",
        "        nn.Dense(256),\n",
        "        nn.relu,\n",
        "        nn.Dense(128),\n",
        "        nn.relu,\n",
        "        nn.Dense(64) # latent representation\n",
        "      ])\n",
        "\n",
        "      self._decoder = nn.Sequential([\n",
        "          nn.Dense(128),\n",
        "          nn.relu,\n",
        "          nn.Dense(256),\n",
        "          nn.relu,\n",
        "          nn.Dense(512),\n",
        "          nn.relu,\n",
        "          nn.Dense(784), # reconstructed image\n",
        "      ])\n",
        "    @nn.compact\n",
        "    def __call__(self, x, training: bool = False):\n",
        "        # Encoder\n",
        "        encoded = self._encoder(x)\n",
        "\n",
        "        # Decoder\n",
        "        decoded = self._decoder(encoded)\n",
        "        return decoded\n"
      ],
      "metadata": {
        "id": "QnpE69HHzvPb"
      },
      "execution_count": 95,
      "outputs": []
    },
    {
      "cell_type": "code",
      "source": [
        "class TrainState(train_state.TrainState):\n",
        "  key: jax.random.KeyArray\n",
        "\n",
        "random_key = jax.random.PRNGKey(99)\n",
        "random_key, random_subkey = jax.random.split(random_key)\n",
        "\n",
        "model = Autoencoder()\n",
        "\n",
        "output, params = model.init_with_output(jrand.PRNGKey(99), test_image, training=False)\n",
        "params = params[\"params\"]\n"
      ],
      "metadata": {
        "id": "3QM-Xtp1ZOcI"
      },
      "execution_count": 97,
      "outputs": []
    },
    {
      "cell_type": "code",
      "source": [
        "def model_apply(params, inputs):\n",
        "  return model.apply({\"params\": params}, inputs, False)\n",
        "\n",
        "model_apply_batch = jax.vmap(model_apply, in_axes=(None, 0), out_axes=(0))\n",
        "\n",
        "def forward_pass(params, state, batch):\n",
        "  inputs, _ = batch # you are using reconstruction loss, so NOneed of targets.\n",
        "  reconstructed = state.apply_fn(params, inputs)\n",
        "  loss = (inputs - reconstructed) ** 2\n",
        "  loss = loss.mean()\n",
        "  return loss\n",
        "\n",
        "def train_step(state, inputs, targets):\n",
        "  batch = inputs, targets\n",
        "  grad_fn = jax.value_and_grad(forward_pass, argnums=(0))  # differentiate wrt 0th pos argument.\n",
        "  loss, grads = grad_fn(state.params, state, batch)\n",
        "\n",
        "  loss = jax.lax.pmean(loss, axis_name=\"devices\")\n",
        "  grads = jax.lax.pmean(grads, axis_name=\"devices\")\n",
        "\n",
        "  state = state.apply_gradients(grads=grads)\n",
        "  return state, loss\n",
        "\n",
        "opt = optax.adam(learning_rate=0.001)\n",
        "state = TrainState.create(apply_fn=model_apply_batch, params=params, tx=opt, key=random_key)"
      ],
      "metadata": {
        "id": "7e9M7_uLZ1VR"
      },
      "execution_count": 98,
      "outputs": []
    },
    {
      "cell_type": "code",
      "source": [
        "# pmap the train_step.\n",
        "train_step_pmap = jax.pmap(train_step, in_axes=(0, 0, 0), out_axes=(0), axis_name=\"devices\")"
      ],
      "metadata": {
        "id": "KO7mMUbMuXNl"
      },
      "execution_count": 99,
      "outputs": []
    },
    {
      "cell_type": "code",
      "source": [
        "# replicate state\n",
        "states = jax.device_put_replicated(state, jax.local_devices())"
      ],
      "metadata": {
        "id": "BaQTgEWzvfC6"
      },
      "execution_count": 100,
      "outputs": []
    },
    {
      "cell_type": "code",
      "source": [
        "for epoch in range(5000):\n",
        "  inputs, targets = get_batch()\n",
        "\n",
        "  # create device dimension for minibatch\n",
        "  inputs = inputs.reshape((jax.device_count(), -1, inputs.shape[-1]))\n",
        "  targets = targets.reshape((jax.device_count(), -1, targets.shape[-1]))\n",
        "\n",
        "  states, loss = train_step_pmap(states, inputs, targets)\n",
        "  print(\"loss\", loss[0], \"epoch\", epoch) if epoch%100==0 else None"
      ],
      "metadata": {
        "id": "sFzsWcLnnw0X",
        "colab": {
          "base_uri": "https://localhost:8080/"
        },
        "outputId": "4df6c6e7-df3d-4688-b997-ee70ccd9a7c9"
      },
      "execution_count": 109,
      "outputs": [
        {
          "output_type": "stream",
          "name": "stdout",
          "text": [
            "loss 0.006231983 epoch 0\n",
            "loss 0.0059104757 epoch 100\n",
            "loss 0.0059662126 epoch 200\n",
            "loss 0.0060378066 epoch 300\n",
            "loss 0.0063498123 epoch 400\n",
            "loss 0.00644303 epoch 500\n",
            "loss 0.005790061 epoch 600\n",
            "loss 0.0057634395 epoch 700\n",
            "loss 0.0058621382 epoch 800\n",
            "loss 0.0055677197 epoch 900\n",
            "loss 0.0057414817 epoch 1000\n",
            "loss 0.0059189936 epoch 1100\n",
            "loss 0.005812944 epoch 1200\n",
            "loss 0.0057943044 epoch 1300\n",
            "loss 0.0057116924 epoch 1400\n",
            "loss 0.005609373 epoch 1500\n",
            "loss 0.005763919 epoch 1600\n",
            "loss 0.005497167 epoch 1700\n",
            "loss 0.005684049 epoch 1800\n",
            "loss 0.0054462436 epoch 1900\n",
            "loss 0.005624841 epoch 2000\n",
            "loss 0.0057196603 epoch 2100\n",
            "loss 0.0060042273 epoch 2200\n",
            "loss 0.005518621 epoch 2300\n",
            "loss 0.005803182 epoch 2400\n",
            "loss 0.005455583 epoch 2500\n",
            "loss 0.005328944 epoch 2600\n",
            "loss 0.005615084 epoch 2700\n",
            "loss 0.0055765975 epoch 2800\n",
            "loss 0.0056503327 epoch 2900\n",
            "loss 0.0053339778 epoch 3000\n",
            "loss 0.0055385428 epoch 3100\n",
            "loss 0.0055637304 epoch 3200\n",
            "loss 0.0053115375 epoch 3300\n",
            "loss 0.0060927914 epoch 3400\n",
            "loss 0.0052954853 epoch 3500\n",
            "loss 0.0053612255 epoch 3600\n",
            "loss 0.0055897664 epoch 3700\n",
            "loss 0.005468991 epoch 3800\n",
            "loss 0.0061988365 epoch 3900\n",
            "loss 0.005176427 epoch 4000\n",
            "loss 0.005318868 epoch 4100\n",
            "loss 0.005252033 epoch 4200\n",
            "loss 0.005379668 epoch 4300\n",
            "loss 0.0053856047 epoch 4400\n",
            "loss 0.0052227797 epoch 4500\n",
            "loss 0.0053981165 epoch 4600\n",
            "loss 0.0052044783 epoch 4700\n",
            "loss 0.005436935 epoch 4800\n",
            "loss 0.0052581457 epoch 4900\n"
          ]
        }
      ]
    },
    {
      "cell_type": "code",
      "source": [
        "import matplotlib.pyplot as plt\n",
        "\n",
        "def plot_reconstructions(model, params, batch, n=10):\n",
        "    inputs, _ = batch\n",
        "    reconstructed = model_apply_batch(params, inputs)\n",
        "    fig, axes = plt.subplots(2, n, figsize=(n * 2, 4))\n",
        "    for i in range(n):\n",
        "        axes[0, i].imshow(inputs[i].reshape(28, 28), cmap='gray')\n",
        "        axes[0, i].axis('off')\n",
        "        axes[1, i].imshow(reconstructed[i].reshape(28, 28), cmap='gray')\n",
        "        axes[1, i].axis('off')\n",
        "    plt.show()\n",
        "\n",
        "# Visualize some reconstructions\n",
        "plot_reconstructions(model, params, get_batch())\n"
      ],
      "metadata": {
        "colab": {
          "base_uri": "https://localhost:8080/",
          "height": 301
        },
        "id": "Lhn0oaJPcL8C",
        "outputId": "d865af1d-9fce-4a28-b76b-9c296019ccd8"
      },
      "execution_count": 110,
      "outputs": [
        {
          "output_type": "display_data",
          "data": {
            "text/plain": [
              "<Figure size 2000x400 with 20 Axes>"
            ],
            "image/png": "[encoded data removed]"
          },
          "metadata": {}
        }
      ]
    }
  ]
}