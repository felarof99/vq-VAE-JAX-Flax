{
  "nbformat": 4,
  "nbformat_minor": 0,
  "metadata": {
    "colab": {
      "provenance": []
    },
    "kernelspec": {
      "name": "python3",
      "display_name": "Python 3"
    },
    "language_info": {
      "name": "python"
    }
  },
  "cells": [
    {
      "cell_type": "code",
      "source": [
        "from typing import List, Dict, Mapping, Tuple\n",
        "\n",
        "import chex\n",
        "import jax\n",
        "import jax.numpy as jnp\n",
        "import jax.random as jrand\n",
        "import flax.linen as nn\n",
        "from flax.training import train_state  # Useful dataclass to keep train state\n",
        "import optax\n",
        "import tensorflow as tf\n",
        "import pdb\n",
        "import functools\n",
        "\n",
        "def println(*args):\n",
        "  for arg in args:\n",
        "    print(arg)\n"
      ],
      "metadata": {
        "id": "72Nj51EWBerM"
      },
      "execution_count": 1,
      "outputs": []
    },
    {
      "cell_type": "code",
      "source": [
        "# import jax.tools.colab_tpu\n",
        "# jax.tools.colab_tpu.setup_tpu()\n",
        "jax.devices()"
      ],
      "metadata": {
        "id": "jBNxJaDJLWKG",
        "colab": {
          "base_uri": "https://localhost:8080/"
        },
        "outputId": "ceffa1a9-9b95-4f8c-a9d4-58534c3455fa"
      },
      "execution_count": 2,
      "outputs": [
        {
          "output_type": "execute_result",
          "data": {
            "text/plain": [
              "[CpuDevice(id=0)]"
            ]
          },
          "metadata": {},
          "execution_count": 2
        }
      ]
    },
    {
      "cell_type": "code",
      "source": [
        "DEVICE_COUNT = len(jax.devices())\n",
        "DEVICE_COUNT"
      ],
      "metadata": {
        "id": "sqescrf0Sslj",
        "outputId": "b8248988-699e-4757-dfba-0b404195a98e",
        "colab": {
          "base_uri": "https://localhost:8080/"
        }
      },
      "execution_count": 3,
      "outputs": [
        {
          "output_type": "execute_result",
          "data": {
            "text/plain": [
              "1"
            ]
          },
          "metadata": {},
          "execution_count": 3
        }
      ]
    },
    {
      "cell_type": "code",
      "source": [
        "BATCH_SIZE = 16"
      ],
      "metadata": {
        "id": "WaGPnFqLUxFa"
      },
      "execution_count": 4,
      "outputs": []
    },
    {
      "cell_type": "markdown",
      "source": [
        "## Dataset pipline"
      ],
      "metadata": {
        "id": "ukGZuNfiXSkF"
      }
    },
    {
      "cell_type": "code",
      "source": [
        "import tensorflow as tf\n",
        "\n",
        "# Load the CIFAR-10 dataset\n",
        "(x_train, y_train), (x_test, y_test) = tf.keras.datasets.mnist.load_data()\n",
        "\n",
        "# Normalize the pixel values\n",
        "x_train, x_test = ((x_train / 127.5) - 1), ((x_test / 127.5) -1)\n",
        "\n",
        "# Convert the labels to one-hot encoding\n",
        "y_train = tf.keras.utils.to_categorical(y_train, 10)\n",
        "y_test = tf.keras.utils.to_categorical(y_test, 10)\n",
        "\n",
        "def create_dataset():\n",
        "  # Create a TensorFlow data pipeline for the training set\n",
        "  train_dataset = (\n",
        "      tf.data.Dataset\n",
        "      .from_tensor_slices((x_train, y_train))\n",
        "      .repeat()\n",
        "      .shuffle(buffer_size=5000)\n",
        "      .batch(BATCH_SIZE)\n",
        "      .prefetch(tf.data.AUTOTUNE)\n",
        "      .as_numpy_iterator())\n",
        "\n",
        "  # Create a TensorFlow data pipeline for the test set.\n",
        "  test_dataset = (\n",
        "      tf.data.Dataset\n",
        "      .from_tensor_slices((x_test, y_test))\n",
        "      .batch(BATCH_SIZE)\n",
        "      .prefetch(tf.data.AUTOTUNE)\n",
        "      .as_numpy_iterator())\n",
        "  return train_dataset, test_dataset\n",
        "\n",
        "def get_batch(dataset):\n",
        "  images, labels = next(dataset)\n",
        "\n",
        "  images, labels = jnp.array(images), jnp.array(labels)\n",
        "  # images = jnp.reshape(images, (BATCH_SIZE, -1)) # flatten the images\n",
        "  return images, labels\n",
        "\n",
        "train_dataset, test_dataset = create_dataset()"
      ],
      "metadata": {
        "id": "6SZi0CVi9hbf",
        "colab": {
          "base_uri": "https://localhost:8080/"
        },
        "outputId": "d2feb71c-0adc-455c-fdbb-f79221318838"
      },
      "execution_count": 5,
      "outputs": [
        {
          "output_type": "stream",
          "name": "stdout",
          "text": [
            "Downloading data from https://storage.googleapis.com/tensorflow/tf-keras-datasets/mnist.npz\n",
            "11490434/11490434 [==============================] - 0s 0us/step\n"
          ]
        }
      ]
    },
    {
      "cell_type": "markdown",
      "source": [
        "### test get_batch"
      ],
      "metadata": {
        "id": "COmCti08XaWe"
      }
    },
    {
      "cell_type": "code",
      "source": [
        "test_images, test_labels = get_batch(train_dataset)\n",
        "test_images.shape, test_labels.shape"
      ],
      "metadata": {
        "id": "7cgyLqLk_bKc",
        "outputId": "65387115-eac8-447b-9842-ebb8d3a43fc9",
        "colab": {
          "base_uri": "https://localhost:8080/"
        }
      },
      "execution_count": 6,
      "outputs": [
        {
          "output_type": "execute_result",
          "data": {
            "text/plain": [
              "((16, 28, 28), (16, 10))"
            ]
          },
          "metadata": {},
          "execution_count": 6
        }
      ]
    },
    {
      "cell_type": "markdown",
      "source": [
        "## Modeling"
      ],
      "metadata": {
        "id": "rUpckDyi4aKP"
      }
    },
    {
      "cell_type": "code",
      "source": [
        "class Autoencoder(nn.Module):\n",
        "  def setup(self):\n",
        "    self.codebook = nn.Embed(num_embeddings=3, features=2)\n",
        "\n",
        "  @nn.compact\n",
        "  def __call__(self, x, training=False):\n",
        "      # x = jnp.reshape(x, (28, 28, 1))\n",
        "\n",
        "      # encoder\n",
        "      x = nn.Conv(16, 4, strides=2, padding=1)(x)\n",
        "      x = nn.BatchNorm()\n",
        "      x = nn.relu(x)\n",
        "      x = nn.Conv(16, 4, strides=2, padding=1)(x)\n",
        "      x = nn.relu(x)\n",
        "\n",
        "      # x = jnp.reshape(x, (-1)) # flatten\n",
        "      # x = nn.Dense(3136)(x) # project to flat dimension of 3136, so that you can reconstruct 7x7x64 image from that by reshape\n",
        "\n",
        "      # decoder\n",
        "      # x = jnp.reshape(x, (7, 7, 64))\n",
        "\n",
        "      x = nn.ConvTranspose(16, 4, strides=2, padding=1)(x)\n",
        "      x = nn.relu(x)\n",
        "      x = nn.ConvTranspose(1, 4, strides=2, padding=1)(x)\n",
        "      x = nn.tanh(x)\n",
        "      return x"
      ],
      "metadata": {
        "id": "QnpE69HHzvPb"
      },
      "execution_count": null,
      "outputs": []
    },
    {
      "cell_type": "code",
      "source": [
        "import jax\n",
        "import jax.numpy as jnp\n",
        "import flax.linen as nn\n",
        "\n",
        "class Autoencoder(nn.Module):\n",
        "    num_embeddings: int = 3\n",
        "    embedding_dim: int = 2\n",
        "    beta: float = 0.2\n",
        "\n",
        "    def setup(self):\n",
        "        self.pre_quant_conv = nn.Conv(features=2, kernel_size=(1,), padding='SAME')\n",
        "        self.embedding = nn.Embed(num_embeddings=self.num_embeddings, features=self.embedding_dim)\n",
        "        self.post_quant_conv = nn.Conv(features=4, kernel_size=(1,), padding='SAME')\n",
        "\n",
        "    @nn.compact\n",
        "    def __call__(self, x, training: bool = True):\n",
        "        # Encoder\n",
        "        x = nn.Conv(features=16, kernel_size=(4,), strides=(2,), padding='SAME')(x)\n",
        "        x = nn.BatchNorm(use_running_average=True)(x)\n",
        "        x = nn.relu(x)\n",
        "        x = nn.Conv(features=4, kernel_size=(4,), strides=(2,), padding='SAME')(x)\n",
        "        x = nn.BatchNorm(use_running_average=True)(x)\n",
        "        encoded_output = nn.relu(x)\n",
        "\n",
        "        quant_input = self.pre_quant_conv(encoded_output)\n",
        "\n",
        "        ## Quantization\n",
        "        B, H, W, C = quant_input.shape\n",
        "        quant_input = quant_input.reshape((B, H * W, C))\n",
        "\n",
        "        # Compute pairwise distances and find index of nearest embedding\n",
        "        min_encoding_indices = self._dist_batch(quant_input, self.embedding.embedding)\n",
        "\n",
        "        # Select the embedding weights\n",
        "        quant_out = self.embedding(min_encoding_indices)\n",
        "\n",
        "        # Compute losses\n",
        "        commitment_loss = jnp.mean((quant_out - quant_input)**2)\n",
        "        codebook_loss = jnp.mean((quant_out - jax.lax.stop_gradient(quant_input))**2)\n",
        "        quantize_losses = codebook_loss + self.beta * commitment_loss\n",
        "\n",
        "        # Ensure straight through gradient\n",
        "        quant_out = quant_input + jax.lax.stop_gradient(quant_out - quant_input)\n",
        "\n",
        "        # Reshaping back to original input shape\n",
        "        quant_out = quant_out.reshape((B, H, W, C))\n",
        "\n",
        "        ## Decoder part\n",
        "        decoder_input = self.post_quant_conv(quant_out)\n",
        "        x = nn.ConvTranspose(features=16, kernel_size=(4,), strides=(2,), padding='SAME')(decoder_input)\n",
        "        x = nn.BatchNorm(use_running_average=True)(x)\n",
        "        x = nn.relu(x)\n",
        "        output = nn.ConvTranspose(features=1, kernel_size=(4,), strides=(2,), padding='SAME')(x)\n",
        "        output = nn.tanh(output)\n",
        "\n",
        "        return output, quantize_losses\n",
        "\n",
        "    def _dist(self, quant_input_single_row, embedding_table):\n",
        "      distances = jnp.sum((quant_input_single_row - embedding_table)**2, axis=-1)\n",
        "      min_index = jnp.argmin(distances)\n",
        "      return min_index\n",
        "\n",
        "    def _dist_batch(self, quant_input_batch, embedding_table):\n",
        "      quant_input_fn = jax.vmap(self._dist, in_axes=(0, None), out_axes=(0))\n",
        "      quant_input_batch_fn = jax.vmap(quant_input_fn, in_axes=(0, None), out_axes=(0))\n",
        "      return quant_input_batch_fn(quant_input_batch, embedding_table)\n"
      ],
      "metadata": {
        "id": "n1Ur2p7wMYWk"
      },
      "execution_count": 46,
      "outputs": []
    },
    {
      "cell_type": "code",
      "source": [
        "class TrainState(train_state.TrainState):\n",
        "  key: jax.random.KeyArray\n",
        "\n",
        "random_key = jax.random.PRNGKey(99)\n",
        "random_key, random_subkey = jax.random.split(random_key)\n",
        "\n",
        "model = Autoencoder()\n",
        "\n",
        "test_image, test_label = test_images[0], test_labels[0]\n",
        "test_image = test_image[jnp.newaxis, :, :, jnp.newaxis] # B, H, W, C\n",
        "(output, quantize_losses), params = model.init_with_output(jrand.PRNGKey(99), test_image, training=False)\n",
        "params = params[\"params\"]"
      ],
      "metadata": {
        "id": "3QM-Xtp1ZOcI",
        "outputId": "c46aee02-9e29-4e42-b8a9-6d1c95428441",
        "colab": {
          "base_uri": "https://localhost:8080/"
        }
      },
      "execution_count": 47,
      "outputs": [
        {
          "output_type": "stream",
          "name": "stderr",
          "text": [
            "<ipython-input-47-196a9ef57f39>:2: DeprecationWarning: jax.random.KeyArray is deprecated. Use jax.Array for annotations, and jax.dtypes.issubdtype(arr.dtype, jax.dtypes.prng_key) for runtime detection of typed prng keys (i.e. keys created with jax.random.key).\n",
            "For more information, see https://jax.readthedocs.io/en/latest/jep/9263-typed-keys.html\n",
            "  key: jax.random.KeyArray\n"
          ]
        }
      ]
    },
    {
      "cell_type": "code",
      "source": [
        "output.shape"
      ],
      "metadata": {
        "colab": {
          "base_uri": "https://localhost:8080/"
        },
        "id": "RvhjEJkejMj1",
        "outputId": "46743e2d-b6ef-455f-d10a-07fcdcfb1878"
      },
      "execution_count": 44,
      "outputs": [
        {
          "output_type": "execute_result",
          "data": {
            "text/plain": [
              "(1, 28, 28, 1)"
            ]
          },
          "metadata": {},
          "execution_count": 44
        }
      ]
    },
    {
      "cell_type": "code",
      "source": [
        "def dist(quant_int_single_row, embedding_table):\n",
        "    distances = jnp.sum((quant_int_single_row - embedding_table)**2, axis=-1)\n",
        "    min_index = jnp.argmin(distances)\n",
        "    return min_index\n",
        "\n",
        "# Vectorize the dist function to apply it to each row of quant_input\n",
        "vmap_dist = jax.vmap(dist, in_axes=(0, None))\n",
        "\n",
        "# Compute the minimum distance embedding index for each row of quant_input\n",
        "min_encoding_indices = vmap_dist(quant_input[0], embedding)\n",
        "\n",
        "# Select the embedding weights using the minimum distance indices\n",
        "quant_out = embedding[min_encoding_indices]"
      ],
      "metadata": {
        "id": "EW82RUrhUaor"
      },
      "execution_count": null,
      "outputs": []
    },
    {
      "cell_type": "code",
      "source": [
        "def dist(quant_int_single_row, embedding_table):\n",
        "    distances = jnp.sum((quant_int_single_row - embedding_table)**2, axis=-1)\n",
        "    min_index = jnp.argmin(distances)\n",
        "    pdb.set_trace()\n",
        "    return min_index\n"
      ],
      "metadata": {
        "id": "ZbgSV80kVuze"
      },
      "execution_count": 70,
      "outputs": []
    },
    {
      "cell_type": "code",
      "source": [
        "embedding = jnp.array([[ 0.24421199, -0.5446842 ],\n",
        "       [-1.3313118 ,  1.1868978 ],\n",
        "       [-0.4566962 , -0.8851884 ]], dtype=jnp.float32)"
      ],
      "metadata": {
        "id": "z0F-xCvMUHHg"
      },
      "execution_count": 58,
      "outputs": []
    },
    {
      "cell_type": "code",
      "source": [
        "quant_input = jnp.array(Array[[[ 0.28657725, -0.19831286],\n",
        "        [ 0.3218038 , -0.2226898 ],\n",
        "        [ 0.3218038 , -0.2226898 ],\n",
        "        [ 0.3218038 , -0.2226898 ],\n",
        "        [ 0.3218038 , -0.2226898 ],\n",
        "        [ 0.3218038 , -0.2226898 ],\n",
        "        [ 0.13717403, -0.07405859],\n",
        "        [ 0.28657725, -0.19831286],\n",
        "        [ 0.3218038 , -0.2226898 ],\n",
        "        [ 0.3218038 , -0.2226898 ],\n",
        "        [ 0.3218038 , -0.2226898 ],\n",
        "        [ 0.3218038 , -0.2226898 ],\n",
        "        [ 0.3218038 , -0.2226898 ],\n",
        "        [ 0.13717403, -0.07405859],\n",
        "        [ 0.28657725, -0.19831286],\n",
        "        [ 0.3218038 , -0.2226898 ],\n",
        "        [ 0.3218038 , -0.2226898 ],\n",
        "        [ 0.3218038 , -0.2226898 ],\n",
        "        [ 0.3218038 , -0.2226898 ],\n",
        "        [ 0.3218038 , -0.2226898 ],\n",
        "        [ 0.13717403, -0.07405859],\n",
        "        [ 0.28657725, -0.19831286],\n",
        "        [ 0.3218038 , -0.2226898 ],\n",
        "        [ 0.3218038 , -0.2226898 ],\n",
        "        [ 0.3218038 , -0.2226898 ],\n",
        "        [ 0.3218038 , -0.2226898 ],\n",
        "        [ 0.3218038 , -0.2226898 ],\n",
        "        [ 0.13717403, -0.07405859],\n",
        "        [ 0.28657725, -0.19831286],\n",
        "        [ 0.3218038 , -0.2226898 ],\n",
        "        [ 0.3218038 , -0.2226898 ],\n",
        "        [ 0.3218038 , -0.2226898 ],\n",
        "        [ 0.3218038 , -0.2226898 ],\n",
        "        [ 0.3218038 , -0.2226898 ],\n",
        "        [ 0.13717403, -0.07405859],\n",
        "        [ 0.28657725, -0.19831286],\n",
        "        [ 0.3218038 , -0.2226898 ],\n",
        "        [ 0.3218038 , -0.2226898 ],\n",
        "        [ 0.3218038 , -0.2226898 ],\n",
        "        [ 0.3218038 , -0.2226898 ],\n",
        "        [ 0.3218038 , -0.2226898 ],\n",
        "        [ 0.13717403, -0.07405859],\n",
        "        [ 0.28657725, -0.19831286],\n",
        "        [ 0.3218038 , -0.2226898 ],\n",
        "        [ 0.3218038 , -0.2226898 ],\n",
        "        [ 0.3218038 , -0.2226898 ],\n",
        "        [ 0.3218038 , -0.2226898 ],\n",
        "        [ 0.3218038 , -0.2226898 ],\n",
        "        [ 0.13717403, -0.07405859],\n",
        "        [ 0.28657725, -0.19831286],\n",
        "        [ 0.31708723, -0.21942592],\n",
        "        [ 0.1700311 , -0.11766236],\n",
        "        [ 0.12728651, -0.08808289],\n",
        "        [ 0.26512933, -0.1834708 ],\n",
        "        [ 0.3218038 , -0.2226898 ],\n",
        "        [ 0.13717403, -0.07405859],\n",
        "        [ 0.28657725, -0.19831286],\n",
        "        [ 0.1581337 , -0.10942929],\n",
        "        [ 0.12632655,  0.09429599],\n",
        "        [-0.0168417 , -0.0556844 ],\n",
        "        [ 0.1048088 , -0.11608064],\n",
        "        [ 0.33003643, -0.22838682],\n",
        "        [ 0.13717403, -0.07405859],\n",
        "        [ 0.2628734 , -0.18190968],\n",
        "        [ 0.09461261, -0.06547239],\n",
        "        [ 0.10639513, -0.0819018 ],\n",
        "        [ 0.02587353,  0.036354  ],\n",
        "        [ 0.15120953, -0.12543455],\n",
        "        [ 0.36225837, -0.2506846 ],\n",
        "        [ 0.13717403, -0.07405859],\n",
        "        [ 0.1397198 , -0.09857887],\n",
        "        [ 0.16406511,  0.15549637],\n",
        "        [ 0.08410604, -0.092908  ],\n",
        "        [ 0.20885997, -0.05551159],\n",
        "        [ 0.23703988, -0.1839838 ],\n",
        "        [ 0.33812135, -0.23398162],\n",
        "        [ 0.13717403, -0.07405859],\n",
        "        [ 0.13737643, -0.12540857],\n",
        "        [ 0.11254933, -0.07788469],\n",
        "        [ 0.09187608, -0.08960272],\n",
        "        [ 0.25776714,  0.03961443],\n",
        "        [ 0.24347015, -0.20782813],\n",
        "        [ 0.33214882, -0.22984862],\n",
        "        [ 0.13717403, -0.07405859],\n",
        "        [ 0.18246934, -0.1695248 ],\n",
        "        [ 0.20997788, -0.14530572],\n",
        "        [ 0.3070701 , -0.21249402],\n",
        "        [ 0.25311917, -0.01005739],\n",
        "        [ 0.24619581, -0.21669793],\n",
        "        [ 0.33214882, -0.22984862],\n",
        "        [ 0.13717403, -0.07405859],\n",
        "        [ 0.16925801, -0.148475  ],\n",
        "        [ 0.23859407, -0.16510826],\n",
        "        [ 0.29398474, -0.2034389 ],\n",
        "        [ 0.25676575,  0.0462609 ],\n",
        "        [ 0.24276787, -0.20497818],\n",
        "        [ 0.33214882, -0.22984862],\n",
        "        [ 0.13717403, -0.07405859],\n",
        "        [ 0.28657725, -0.19831286],\n",
        "        [ 0.3218038 , -0.2226898 ],\n",
        "        [ 0.3218038 , -0.2226898 ],\n",
        "        [ 0.226907  ,  0.03736182],\n",
        "        [ 0.23119563, -0.18013242],\n",
        "        [ 0.34409386, -0.23811464],\n",
        "        [ 0.13717403, -0.07405859],\n",
        "        [ 0.28657725, -0.19831286],\n",
        "        [ 0.3218038 , -0.2226898 ],\n",
        "        [ 0.23244265, -0.16085145],\n",
        "        [ 0.13930422,  0.04780931],\n",
        "        [ 0.05841967, -0.06795694],\n",
        "        [ 0.11167605, -0.12332304],\n",
        "        [ 0.15127742, -0.09183382],\n",
        "        [ 0.28657725, -0.19831286],\n",
        "        [ 0.3218038 , -0.2226898 ],\n",
        "        [ 0.19089764, -0.13210212],\n",
        "        [ 0.23597534,  0.05774002],\n",
        "        [-0.01117408, -0.05028145],\n",
        "        [-0.02038556, -0.06740161],\n",
        "        [-0.01401838, -0.04634955],\n",
        "        [ 0.28657725, -0.19831286],\n",
        "        [ 0.31898594, -0.22073984],\n",
        "        [ 0.1018132 , -0.07045523],\n",
        "        [ 0.09086595, -0.0831734 ],\n",
        "        [-0.02180158, -0.07208344],\n",
        "        [ 0.11764064, -0.0814079 ],\n",
        "        [ 0.00818588, -0.02509928],\n",
        "        [ 0.28657725, -0.19831286],\n",
        "        [ 0.27151775, -0.18789162],\n",
        "        [ 0.10471679, -0.07246453],\n",
        "        [ 0.01354628,  0.00852497],\n",
        "        [ 0.04236469, -0.04916535],\n",
        "        [ 0.3218038 , -0.2226898 ],\n",
        "        [ 0.13717403, -0.07405859],\n",
        "        [ 0.28657725, -0.19831286],\n",
        "        [ 0.21376935, -0.14792944],\n",
        "        [ 0.13507682, -0.01404559],\n",
        "        [-0.02820132, -0.09852063],\n",
        "        [-0.0050306 , -0.01663286],\n",
        "        [ 0.3218038 , -0.2226898 ],\n",
        "        [ 0.13717403, -0.07405859],\n",
        "        [ 0.28657725, -0.19831286],\n",
        "        [ 0.21376935, -0.14792944],\n",
        "        [ 0.20357692,  0.0392635 ],\n",
        "        [ 0.02613739, -0.08870228],\n",
        "        [ 0.2153727 , -0.14903897],\n",
        "        [ 0.3218038 , -0.2226898 ],\n",
        "        [ 0.13717403, -0.07405859],\n",
        "        [ 0.28657725, -0.19831286],\n",
        "        [ 0.24968237, -0.17278142],\n",
        "        [ 0.2259073 ,  0.09586637],\n",
        "        [ 0.22444075, -0.1553141 ],\n",
        "        [ 0.3296708 , -0.22813381],\n",
        "        [ 0.3218038 , -0.2226898 ],\n",
        "        [ 0.13717403, -0.07405859],\n",
        "        [ 0.28657725, -0.19831286],\n",
        "        [ 0.3208667 , -0.22204134],\n",
        "        [ 0.20405897, -0.14120981],\n",
        "        [ 0.28133133, -0.19468267],\n",
        "        [ 0.32893872, -0.2276272 ],\n",
        "        [ 0.3218038 , -0.2226898 ],\n",
        "        [ 0.13717403, -0.07405859],\n",
        "        [ 0.28657725, -0.19831286],\n",
        "        [ 0.3218038 , -0.2226898 ],\n",
        "        [ 0.3218038 , -0.2226898 ],\n",
        "        [ 0.3218038 , -0.2226898 ],\n",
        "        [ 0.3218038 , -0.2226898 ],\n",
        "        [ 0.3218038 , -0.2226898 ],\n",
        "        [ 0.13717403, -0.07405859],\n",
        "        [ 0.28657725, -0.19831286],\n",
        "        [ 0.3218038 , -0.2226898 ],\n",
        "        [ 0.3218038 , -0.2226898 ],\n",
        "        [ 0.3218038 , -0.2226898 ],\n",
        "        [ 0.3218038 , -0.2226898 ],\n",
        "        [ 0.3218038 , -0.2226898 ],\n",
        "        [ 0.13717403, -0.07405859],\n",
        "        [ 0.28657725, -0.19831286],\n",
        "        [ 0.3218038 , -0.2226898 ],\n",
        "        [ 0.3218038 , -0.2226898 ],\n",
        "        [ 0.3218038 , -0.2226898 ],\n",
        "        [ 0.3218038 , -0.2226898 ],\n",
        "        [ 0.3218038 , -0.2226898 ],\n",
        "        [ 0.13717403, -0.07405859],\n",
        "        [ 0.28657725, -0.19831286],\n",
        "        [ 0.3218038 , -0.2226898 ],\n",
        "        [ 0.3218038 , -0.2226898 ],\n",
        "        [ 0.3218038 , -0.2226898 ],\n",
        "        [ 0.3218038 , -0.2226898 ],\n",
        "        [ 0.3218038 , -0.2226898 ],\n",
        "        [ 0.13717403, -0.07405859],\n",
        "        [ 0.28657725, -0.19831286],\n",
        "        [ 0.3218038 , -0.2226898 ],\n",
        "        [ 0.3218038 , -0.2226898 ],\n",
        "        [ 0.3218038 , -0.2226898 ],\n",
        "        [ 0.3218038 , -0.2226898 ],\n",
        "        [ 0.32180387, -0.22268985],\n",
        "        [ 0.13717403, -0.07405859]]], dtype=jnp.float32)"
      ],
      "metadata": {
        "id": "2TPW9Fb3UP9B"
      },
      "execution_count": 59,
      "outputs": []
    },
    {
      "cell_type": "code",
      "source": [
        "def model_apply(params, inputs, training):\n",
        "  return model.apply({\"params\": params}, inputs, training=training)\n",
        "\n",
        "model_apply_batch = jax.vmap(model_apply, in_axes=(None, 0, None), out_axes=(0))\n",
        "\n",
        "def forward_pass(params, state, batch):\n",
        "  inputs, _ = batch # you are using reconstruction loss, so NO need of targets.\n",
        "  reconstructed = state.apply_fn(\n",
        "      params,\n",
        "      inputs,\n",
        "      True # training\n",
        "    )\n",
        "\n",
        "  PER_HOST_BATCH_SIZE = BATCH_SIZE // jax.device_count()\n",
        "\n",
        "  reconstructed = jnp.reshape(reconstructed, (PER_HOST_BATCH_SIZE, -1)) # flatten the reconstructed to (32, 784)\n",
        "\n",
        "  chex.assert_shape(inputs, (PER_HOST_BATCH_SIZE, 784))\n",
        "  chex.assert_shape(reconstructed, (PER_HOST_BATCH_SIZE, 784))\n",
        "\n",
        "  loss = (inputs - reconstructed) ** 2\n",
        "  loss = loss.mean()\n",
        "  return loss\n",
        "\n",
        "def train_step(state, inputs, targets):\n",
        "  batch = inputs, targets\n",
        "  grad_fn = jax.value_and_grad(forward_pass, argnums=(0))  # differentiate wrt 0th pos argument.\n",
        "  params = state.params\n",
        "  loss, grads = grad_fn(state.params, state, batch)\n",
        "\n",
        "  loss = jax.lax.pmean(loss, axis_name=\"devices\")\n",
        "  grads = jax.lax.pmean(grads, axis_name=\"devices\")\n",
        "\n",
        "  state = state.apply_gradients(grads=grads)\n",
        "  return state, loss\n",
        "\n",
        "opt = optax.adam(learning_rate=0.001)\n",
        "state = TrainState.create(apply_fn=model_apply_batch, params=params, tx=opt, key=random_key)"
      ],
      "metadata": {
        "id": "7e9M7_uLZ1VR"
      },
      "execution_count": null,
      "outputs": []
    },
    {
      "cell_type": "code",
      "source": [
        "# pmap the train_step.\n",
        "train_step_pmap = jax.pmap(train_step, in_axes=(0, 0, 0), out_axes=(0), axis_name=\"devices\")"
      ],
      "metadata": {
        "id": "KO7mMUbMuXNl"
      },
      "execution_count": null,
      "outputs": []
    },
    {
      "cell_type": "code",
      "source": [
        "# replicate state\n",
        "states = jax.device_put_replicated(state, jax.local_devices())"
      ],
      "metadata": {
        "id": "BaQTgEWzvfC6"
      },
      "execution_count": null,
      "outputs": []
    },
    {
      "cell_type": "code",
      "source": [
        "# Training loop\n",
        "num_epochs = 1\n",
        "steps_per_epoch = 1 # len(x_train) // BATCH_SIZE\n",
        "\n",
        "for epoch in range(num_epochs):\n",
        "    print(\"epoch: \", epoch)\n",
        "    train_dataset, _ = create_dataset()\n",
        "\n",
        "    for step in range(steps_per_epoch):\n",
        "        inputs, targets = get_batch(train_dataset)\n",
        "\n",
        "        # create device dimension for minibatch\n",
        "        inputs = inputs.reshape((jax.device_count(), -1, inputs.shape[-1]))\n",
        "        targets = targets.reshape((jax.device_count(), -1, targets.shape[-1]))\n",
        "\n",
        "        states, loss = train_step_pmap(states, inputs, targets)\n",
        "        print(\"loss\", loss[0]) if step%100==0 else None"
      ],
      "metadata": {
        "id": "2I7eEBn3P6Iy",
        "outputId": "549088e7-83e9-4122-b79c-474c9937c69b",
        "colab": {
          "base_uri": "https://localhost:8080/"
        }
      },
      "execution_count": null,
      "outputs": [
        {
          "output_type": "stream",
          "name": "stdout",
          "text": [
            "epoch:  0\n",
            "loss 0.23077835\n"
          ]
        }
      ]
    },
    {
      "cell_type": "code",
      "source": [
        "state = jax.tree_map(lambda x: x[0], states)"
      ],
      "metadata": {
        "id": "qjy-ePiARvUc"
      },
      "execution_count": null,
      "outputs": []
    },
    {
      "cell_type": "code",
      "source": [
        "import matplotlib.pyplot as plt\n",
        "\n",
        "def plot_reconstructions(model, params, batch, n=10):\n",
        "    inputs, _ = batch\n",
        "    reconstructed = state.apply_fn(params, inputs, False)\n",
        "    fig, axes = plt.subplots(2, n, figsize=(n * 2, 4))\n",
        "    for i in range(n):\n",
        "        axes[0, i].imshow(inputs[i].reshape(28, 28), cmap='gray')\n",
        "        axes[0, i].axis('off')\n",
        "        axes[1, i].imshow(reconstructed[i].reshape(28, 28), cmap='gray')\n",
        "        axes[1, i].axis('off')\n",
        "    plt.show()\n",
        "\n",
        "# Visualize some reconstructionsmodel_apply_batch\n",
        "train_dataset, test_dataset = create_dataset()\n",
        "plot_reconstructions(model, state.params, get_batch(test_dataset))\n"
      ],
      "metadata": {
        "colab": {
          "base_uri": "https://localhost:8080/",
          "height": 229
        },
        "id": "Lhn0oaJPcL8C",
        "outputId": "98588eea-ec12-48de-9b3a-112da063cc61"
      },
      "execution_count": null,
      "outputs": [
        {
          "output_type": "display_data",
          "data": {
            "text/plain": [
              "<Figure size 2000x400 with 20 Axes>"
            ],
            "image/png": "[encoded data removed]"
          },
          "metadata": {}
        }
      ]
    }
  ]
}