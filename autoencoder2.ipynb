{
  "nbformat": 4,
  "nbformat_minor": 0,
  "metadata": {
    "colab": {
      "provenance": []
    },
    "kernelspec": {
      "name": "python3",
      "display_name": "Python 3"
    },
    "language_info": {
      "name": "python"
    },
    "accelerator": "TPU"
  },
  "cells": [
    {
      "cell_type": "code",
      "source": [
        "from typing import List, Dict, Mapping, Tuple\n",
        "\n",
        "import chex\n",
        "import jax\n",
        "import jax.numpy as jnp\n",
        "import jax.random as jrand\n",
        "import flax.linen as nn\n",
        "from flax.training import train_state  # Useful dataclass to keep train state\n",
        "import optax\n",
        "import tensorflow as tf\n",
        "import pdb\n",
        "import functools\n",
        "\n",
        "def println(*args):\n",
        "  for arg in args:\n",
        "    print(arg)\n"
      ],
      "metadata": {
        "id": "72Nj51EWBerM"
      },
      "execution_count": 1,
      "outputs": []
    },
    {
      "cell_type": "code",
      "source": [
        "import jax.tools.colab_tpu\n",
        "jax.tools.colab_tpu.setup_tpu()\n",
        "jax.devices()"
      ],
      "metadata": {
        "id": "jBNxJaDJLWKG",
        "colab": {
          "base_uri": "https://localhost:8080/"
        },
        "outputId": "f1890a80-55cb-4ad7-fd15-465e4cb247cf"
      },
      "execution_count": 2,
      "outputs": [
        {
          "output_type": "execute_result",
          "data": {
            "text/plain": [
              "[TpuDevice(id=0, process_index=0, coords=(0,0,0), core_on_chip=0),\n",
              " TpuDevice(id=1, process_index=0, coords=(0,0,0), core_on_chip=1),\n",
              " TpuDevice(id=2, process_index=0, coords=(1,0,0), core_on_chip=0),\n",
              " TpuDevice(id=3, process_index=0, coords=(1,0,0), core_on_chip=1),\n",
              " TpuDevice(id=4, process_index=0, coords=(0,1,0), core_on_chip=0),\n",
              " TpuDevice(id=5, process_index=0, coords=(0,1,0), core_on_chip=1),\n",
              " TpuDevice(id=6, process_index=0, coords=(1,1,0), core_on_chip=0),\n",
              " TpuDevice(id=7, process_index=0, coords=(1,1,0), core_on_chip=1)]"
            ]
          },
          "metadata": {},
          "execution_count": 2
        }
      ]
    },
    {
      "cell_type": "code",
      "source": [
        "DEVICE_COUNT = len(jax.devices())\n",
        "DEVICE_COUNT"
      ],
      "metadata": {
        "id": "sqescrf0Sslj",
        "outputId": "e097b1d0-8a88-40ac-e87c-0490b792f432",
        "colab": {
          "base_uri": "https://localhost:8080/"
        }
      },
      "execution_count": 3,
      "outputs": [
        {
          "output_type": "execute_result",
          "data": {
            "text/plain": [
              "8"
            ]
          },
          "metadata": {},
          "execution_count": 3
        }
      ]
    },
    {
      "cell_type": "code",
      "source": [
        "BATCH_SIZE = 512"
      ],
      "metadata": {
        "id": "WaGPnFqLUxFa"
      },
      "execution_count": 4,
      "outputs": []
    },
    {
      "cell_type": "markdown",
      "source": [
        "## Dataset pipline"
      ],
      "metadata": {
        "id": "ukGZuNfiXSkF"
      }
    },
    {
      "cell_type": "code",
      "source": [
        "import tensorflow as tf\n",
        "\n",
        "# Load the CIFAR-10 dataset\n",
        "(x_train, y_train), (x_test, y_test) = tf.keras.datasets.mnist.load_data()\n",
        "\n",
        "# Normalize the pixel values\n",
        "x_train, x_test = x_train / 255.0, x_test / 255.0\n",
        "\n",
        "# Convert the labels to one-hot encoding\n",
        "y_train = tf.keras.utils.to_categorical(y_train, 10)\n",
        "y_test = tf.keras.utils.to_categorical(y_test, 10)\n",
        "\n",
        "# Create a TensorFlow data pipeline for the training set\n",
        "train_dataset = (\n",
        "    tf.data.Dataset\n",
        "    .from_tensor_slices((x_train, y_train))\n",
        "    .repeat()\n",
        "    .shuffle(buffer_size=5000)\n",
        "    .batch(BATCH_SIZE)\n",
        "    .prefetch(tf.data.AUTOTUNE)\n",
        "    .as_numpy_iterator())\n",
        "\n",
        "# Create a TensorFlow data pipeline for the test set.\n",
        "test_dataset = (\n",
        "    tf.data.Dataset\n",
        "    .from_tensor_slices((x_test, y_test))\n",
        "    .batch(BATCH_SIZE)\n",
        "    .prefetch(tf.data.AUTOTUNE)\n",
        "    .as_numpy_iterator())\n",
        "\n",
        "def get_batch(training: bool = True):\n",
        "  images, labels = (\n",
        "      next(train_dataset) if training\n",
        "      else next(test_dataset))\n",
        "\n",
        "  images, labels = jnp.array(images), jnp.array(labels)\n",
        "  images = jnp.reshape(images, (BATCH_SIZE, -1)) # flatten the images\n",
        "  return images, labels"
      ],
      "metadata": {
        "id": "6SZi0CVi9hbf",
        "outputId": "e0b7e59a-b95e-48cf-c037-9b2e4381c821",
        "colab": {
          "base_uri": "https://localhost:8080/"
        }
      },
      "execution_count": 5,
      "outputs": [
        {
          "output_type": "stream",
          "name": "stdout",
          "text": [
            "Downloading data from https://storage.googleapis.com/tensorflow/tf-keras-datasets/mnist.npz\n",
            "11490434/11490434 [==============================] - 0s 0us/step\n"
          ]
        }
      ]
    },
    {
      "cell_type": "markdown",
      "source": [
        "### test get_batch"
      ],
      "metadata": {
        "id": "COmCti08XaWe"
      }
    },
    {
      "cell_type": "code",
      "source": [
        "test_images, test_labels = get_batch()\n",
        "test_images.shape, test_labels.shape"
      ],
      "metadata": {
        "id": "7cgyLqLk_bKc",
        "outputId": "a59115ce-bfbe-4308-ca37-f08d6f7d9c10",
        "colab": {
          "base_uri": "https://localhost:8080/"
        }
      },
      "execution_count": 6,
      "outputs": [
        {
          "output_type": "execute_result",
          "data": {
            "text/plain": [
              "((512, 784), (512, 10))"
            ]
          },
          "metadata": {},
          "execution_count": 6
        }
      ]
    },
    {
      "cell_type": "code",
      "source": [
        "test_image, test_label = test_images[0], test_labels[0]\n",
        "test_image.shape"
      ],
      "metadata": {
        "colab": {
          "base_uri": "https://localhost:8080/"
        },
        "id": "HBoE30Yd1x7E",
        "outputId": "396aeec1-39ff-4486-f799-17f468d9dcc4"
      },
      "execution_count": 7,
      "outputs": [
        {
          "output_type": "execute_result",
          "data": {
            "text/plain": [
              "(784,)"
            ]
          },
          "metadata": {},
          "execution_count": 7
        }
      ]
    },
    {
      "cell_type": "markdown",
      "source": [
        "## Modeling"
      ],
      "metadata": {
        "id": "rUpckDyi4aKP"
      }
    },
    {
      "cell_type": "code",
      "source": [
        "class Autoencoder(nn.Module):\n",
        "    @nn.compact\n",
        "    def __call__(self, x, training=False):\n",
        "        encoded = nn.Dense(512)(x) # 784->512\n",
        "        encoded = nn.relu(encoded)\n",
        "\n",
        "        decoder = nn.Dense(784)(encoded) # 512 -> 784\n",
        "        reconstructed = nn.sigmoid(decoder)\n",
        "        return reconstructed"
      ],
      "metadata": {
        "id": "QnpE69HHzvPb"
      },
      "execution_count": 8,
      "outputs": []
    },
    {
      "cell_type": "code",
      "source": [
        "class TrainState(train_state.TrainState):\n",
        "  key: jax.random.KeyArray\n",
        "\n",
        "random_key = jax.random.PRNGKey(99)\n",
        "random_key, random_subkey = jax.random.split(random_key)\n",
        "\n",
        "model = Autoencoder()\n",
        "\n",
        "output, params = model.init_with_output(jrand.PRNGKey(99), test_image, training=False)\n",
        "params = params[\"params\"]"
      ],
      "metadata": {
        "id": "3QM-Xtp1ZOcI"
      },
      "execution_count": 9,
      "outputs": []
    },
    {
      "cell_type": "code",
      "source": [
        "def model_apply(params, inputs):\n",
        "  return model.apply({\"params\": params}, inputs, training=True)\n",
        "\n",
        "model_apply_batch = jax.vmap(model_apply, in_axes=(None, 0), out_axes=(0))\n",
        "\n",
        "def forward_pass(params, state, batch):\n",
        "  inputs, _ = batch # you are using reconstruction loss, so NO need of targets.\n",
        "  reconstructed = state.apply_fn(params, inputs)\n",
        "\n",
        "  PER_HOST_BATCH_SIZE = BATCH_SIZE // jax.device_count()\n",
        "\n",
        "  reconstructed = jnp.reshape(reconstructed, (PER_HOST_BATCH_SIZE, -1)) # flatten the reconstructed to (32, 784)\n",
        "\n",
        "  chex.assert_shape(inputs, (PER_HOST_BATCH_SIZE, 784))\n",
        "  chex.assert_shape(reconstructed, (PER_HOST_BATCH_SIZE, 784))\n",
        "\n",
        "  loss = (inputs - reconstructed) ** 2\n",
        "  loss = loss.mean()\n",
        "  return loss\n",
        "\n",
        "def train_step(state, inputs, targets):\n",
        "  batch = inputs, targets\n",
        "  grad_fn = jax.value_and_grad(forward_pass, argnums=(0))  # differentiate wrt 0th pos argument.\n",
        "  loss, grads = grad_fn(state.params, state, batch)\n",
        "\n",
        "  loss = jax.lax.pmean(loss, axis_name=\"devices\")\n",
        "  grads = jax.lax.pmean(grads, axis_name=\"devices\")\n",
        "\n",
        "  state = state.apply_gradients(grads=grads)\n",
        "  return state, loss\n",
        "\n",
        "opt = optax.adam(learning_rate=0.001)\n",
        "state = TrainState.create(apply_fn=model_apply_batch, params=params, tx=opt, key=random_key)"
      ],
      "metadata": {
        "id": "7e9M7_uLZ1VR"
      },
      "execution_count": 10,
      "outputs": []
    },
    {
      "cell_type": "code",
      "source": [
        "# pmap the train_step.\n",
        "train_step_pmap = jax.pmap(train_step, in_axes=(0, 0, 0), out_axes=(0), axis_name=\"devices\")"
      ],
      "metadata": {
        "id": "KO7mMUbMuXNl"
      },
      "execution_count": 11,
      "outputs": []
    },
    {
      "cell_type": "code",
      "source": [
        "# replicate state\n",
        "states = jax.device_put_replicated(state, jax.local_devices())"
      ],
      "metadata": {
        "id": "BaQTgEWzvfC6"
      },
      "execution_count": 12,
      "outputs": []
    },
    {
      "cell_type": "code",
      "source": [
        "for epoch in range(5000):\n",
        "  inputs, targets = get_batch()\n",
        "\n",
        "  # create device dimension for minibatch\n",
        "  inputs = inputs.reshape((jax.device_count(), -1, inputs.shape[-1]))\n",
        "  targets = targets.reshape((jax.device_count(), -1, targets.shape[-1]))\n",
        "\n",
        "  states, loss = train_step_pmap(states, inputs, targets)\n",
        "  print(\"loss\", loss[0], \"epoch\", epoch) if epoch%100==0 else None"
      ],
      "metadata": {
        "id": "sFzsWcLnnw0X",
        "colab": {
          "base_uri": "https://localhost:8080/"
        },
        "outputId": "06255277-f503-4748-cca6-037efc590608"
      },
      "execution_count": 13,
      "outputs": [
        {
          "output_type": "stream",
          "name": "stdout",
          "text": [
            "loss 0.23373193 epoch 0\n",
            "loss 0.024963845 epoch 100\n",
            "loss 0.014402036 epoch 200\n",
            "loss 0.008944498 epoch 300\n",
            "loss 0.006589297 epoch 400\n",
            "loss 0.005108968 epoch 500\n",
            "loss 0.004196451 epoch 600\n",
            "loss 0.003878023 epoch 700\n",
            "loss 0.003468215 epoch 800\n",
            "loss 0.0031820382 epoch 900\n",
            "loss 0.002836722 epoch 1000\n",
            "loss 0.0030460875 epoch 1100\n",
            "loss 0.0028083227 epoch 1200\n",
            "loss 0.0024811984 epoch 1300\n",
            "loss 0.0023944194 epoch 1400\n",
            "loss 0.0024502515 epoch 1500\n",
            "loss 0.0021596425 epoch 1600\n",
            "loss 0.002074699 epoch 1700\n",
            "loss 0.002005569 epoch 1800\n",
            "loss 0.002151791 epoch 1900\n",
            "loss 0.0020205127 epoch 2000\n",
            "loss 0.0019594128 epoch 2100\n",
            "loss 0.0019317532 epoch 2200\n",
            "loss 0.0018964555 epoch 2300\n",
            "loss 0.0018788737 epoch 2400\n",
            "loss 0.0017128021 epoch 2500\n",
            "loss 0.0019155989 epoch 2600\n",
            "loss 0.0017607401 epoch 2700\n",
            "loss 0.0019106959 epoch 2800\n",
            "loss 0.0016651019 epoch 2900\n",
            "loss 0.0015530162 epoch 3000\n",
            "loss 0.0016937144 epoch 3100\n",
            "loss 0.0017564858 epoch 3200\n",
            "loss 0.0016016648 epoch 3300\n",
            "loss 0.0016539579 epoch 3400\n",
            "loss 0.001536808 epoch 3500\n",
            "loss 0.0015990847 epoch 3600\n",
            "loss 0.0013878855 epoch 3700\n",
            "loss 0.0013688479 epoch 3800\n",
            "loss 0.0014220788 epoch 3900\n",
            "loss 0.0016173229 epoch 4000\n",
            "loss 0.0014011151 epoch 4100\n",
            "loss 0.001416977 epoch 4200\n",
            "loss 0.0012719302 epoch 4300\n",
            "loss 0.0012506105 epoch 4400\n",
            "loss 0.0012975037 epoch 4500\n",
            "loss 0.0013214306 epoch 4600\n",
            "loss 0.0012700218 epoch 4700\n",
            "loss 0.0011763719 epoch 4800\n",
            "loss 0.00123052 epoch 4900\n"
          ]
        }
      ]
    },
    {
      "cell_type": "code",
      "source": [
        "import matplotlib.pyplot as plt\n",
        "\n",
        "def plot_reconstructions(model, params, batch, n=10):\n",
        "    inputs, _ = batch\n",
        "    reconstructed = model_apply_batch(params, inputs)\n",
        "    fig, axes = plt.subplots(2, n, figsize=(n * 2, 4))\n",
        "    for i in range(n):\n",
        "        axes[0, i].imshow(inputs[i].reshape(28, 28), cmap='gray')\n",
        "        axes[0, i].axis('off')\n",
        "        axes[1, i].imshow(reconstructed[i].reshape(28, 28), cmap='gray')\n",
        "        axes[1, i].axis('off')\n",
        "    plt.show()\n",
        "\n",
        "# Visualize some reconstructions\n",
        "plot_reconstructions(model, params, get_batch(training=False))\n"
      ],
      "metadata": {
        "colab": {
          "base_uri": "https://localhost:8080/",
          "height": 177
        },
        "id": "Lhn0oaJPcL8C",
        "outputId": "28caadba-0280-4ea0-9865-bb73706fc5ae"
      },
      "execution_count": 15,
      "outputs": [
        {
          "output_type": "display_data",
          "data": {
            "text/plain": [
              "<Figure size 2000x400 with 20 Axes>"
            ],
            "image/png": "[encoded data removed]"
          },
          "metadata": {}
        }
      ]
    }
  ]
}